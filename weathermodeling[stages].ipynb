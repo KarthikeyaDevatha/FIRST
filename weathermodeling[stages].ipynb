{
  "nbformat": 4,
  "nbformat_minor": 0,
  "metadata": {
    "colab": {
      "provenance": [],
      "authorship_tag": "ABX9TyP4CbVsY5mAPaERlJ+5H+zX",
      "include_colab_link": true
    },
    "kernelspec": {
      "name": "python3",
      "display_name": "Python 3"
    },
    "language_info": {
      "name": "python"
    }
  },
  "cells": [
    {
      "cell_type": "markdown",
      "metadata": {
        "id": "view-in-github",
        "colab_type": "text"
      },
      "source": [
        "<a href=\"https://colab.research.google.com/github/KarthikeyaDevatha/FIRST/blob/main/weathermodeling%5Bstages%5D.ipynb\" target=\"_parent\"><img src=\"https://colab.research.google.com/assets/colab-badge.svg\" alt=\"Open In Colab\"/></a>"
      ]
    },
    {
      "cell_type": "code",
      "execution_count": 1,
      "metadata": {
        "colab": {
          "base_uri": "https://localhost:8080/"
        },
        "id": "yMkb5iPiuTOz",
        "outputId": "6e6ed14e-3bf3-4cfd-9764-8cc3e5e9d6d2"
      },
      "outputs": [
        {
          "output_type": "stream",
          "name": "stdout",
          "text": [
            "Calculated weather: 6.5\n"
          ]
        }
      ],
      "source": [
        "# weather_model.py\n",
        "def calculate_weather(temperature, humidity, windspeed):\n",
        "    weather = 1.5 * temperature - 0.4 * humidity + 0.3 * windspeed - 10\n",
        "    return weather\n",
        "\n",
        "# Hardcoded values\n",
        "temperature = 25  # Example temperature in Celsius\n",
        "humidity = 60     # Example humidity percentage\n",
        "windspeed = 10    # Example windspeed in km/h\n",
        "\n",
        "result = calculate_weather(temperature, humidity, windspeed)\n",
        "print(f\"Calculated weather: {result}\")\n"
      ]
    },
    {
      "cell_type": "code",
      "source": [
        "# weather_model.py\n",
        "def calculate_weather(temperature, humidity, windspeed):\n",
        "    weather = 1.5 * temperature - 0.4 * humidity + 0.3 * windspeed - 10\n",
        "    return weather\n",
        "\n",
        "# Get input from the user\n",
        "temperature = float(input(\"Enter temperature in Celsius: \"))\n",
        "humidity = float(input(\"Enter humidity percentage: \"))\n",
        "windspeed = float(input(\"Enter windspeed in km/h: \"))\n",
        "\n",
        "result = calculate_weather(temperature, humidity, windspeed)\n",
        "print(f\"Calculated weather: {result}\")\n"
      ],
      "metadata": {
        "colab": {
          "base_uri": "https://localhost:8080/"
        },
        "id": "YqE7iQueu9yQ",
        "outputId": "aa6ca613-091d-4bec-c74c-a82bb5a6711f"
      },
      "execution_count": 2,
      "outputs": [
        {
          "output_type": "stream",
          "name": "stdout",
          "text": [
            "Enter temperature in Celsius: 30\n",
            "Enter humidity percentage: 18\n",
            "Enter windspeed in km/h: 20\n",
            "Calculated weather: 33.8\n"
          ]
        }
      ]
    }
  ]
}