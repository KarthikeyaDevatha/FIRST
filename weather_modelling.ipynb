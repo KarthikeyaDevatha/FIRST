{
  "nbformat": 4,
  "nbformat_minor": 0,
  "metadata": {
    "colab": {
      "provenance": [],
      "include_colab_link": true
    },
    "kernelspec": {
      "name": "python3",
      "display_name": "Python 3"
    },
    "language_info": {
      "name": "python"
    }
  },
  "cells": [
    {
      "cell_type": "markdown",
      "metadata": {
        "id": "view-in-github",
        "colab_type": "text"
      },
      "source": [
        "<a href=\"https://colab.research.google.com/github/KarthikeyaDevatha/FIRST/blob/main/weather_modelling.ipynb\" target=\"_parent\"><img src=\"https://colab.research.google.com/assets/colab-badge.svg\" alt=\"Open In Colab\"/></a>"
      ]
    },
    {
      "cell_type": "code",
      "execution_count": null,
      "metadata": {
        "colab": {
          "base_uri": "https://localhost:8080/"
        },
        "id": "McpAWFzXe8tg",
        "outputId": "ab02901b-0b85-4950-c6d1-3d8194f1df9e"
      },
      "outputs": [
        {
          "output_type": "stream",
          "name": "stdout",
          "text": [
            "For x = 10, the weather is: Stormy\n"
          ]
        }
      ],
      "source": [
        "import pandas as pd\n",
        "import numpy as np\n",
        "from openpyxl import load_workbook\n",
        "\n",
        "def classify_weather(tw):\n",
        "    if tw > 350:\n",
        "        return \"Sunny\"\n",
        "    elif 250 < tw <= 350:\n",
        "        return \"Cloudy\"\n",
        "    elif 150 < tw <= 250:\n",
        "        return \"Rainy\"\n",
        "    else:\n",
        "        return \"Stormy\"\n",
        "\n",
        "a = 0.1\n",
        "b = -0.5\n",
        "c = 20\n",
        "x = 10\n",
        "tw = (0.5 * x**2) - (0.2 * x) + (0.1 * 5) - 15\n",
        "weather_condition = classify_weather(tw)\n",
        "print(f\"For x = {x}, the weather is: {weather_condition}\")\n"
      ]
    },
    {
      "cell_type": "code",
      "source": [
        "a = 0.1\n",
        "b = -0.5\n",
        "c = 20\n",
        "x = float(input(\"Enter a value for x (e.g., time of day or day of the year): \"))\n",
        "y = a * x**2 + b * x + c\n",
        "print(f\"The weather model output for x = {x} is y = {y}\")\n"
      ],
      "metadata": {
        "id": "V7Uo4YNdfSzZ"
      },
      "execution_count": null,
      "outputs": []
    },
    {
      "cell_type": "markdown",
      "source": [],
      "metadata": {
        "id": "LmwWWZ3ijI6E"
      }
    },
    {
      "cell_type": "code",
      "source": [
        "a = 0.1\n",
        "b = -0.5\n",
        "c = 20\n",
        "with open(\"input_data.txt\", \"r\") as file:\n",
        "    for line in file:\n",
        "        x = float(line.strip())\n",
        "        tw = (0.5 * x**2) - (0.2 * x) + (0.1 * 5) - 15\n",
        "        weather_condition = classify_weather(tw)\n",
        "        print(f\"For x = {x}, the weather is: {weather_condition}\")\n"
      ],
      "metadata": {
        "id": "1df9NS-VfZCv"
      },
      "execution_count": null,
      "outputs": []
    },
    {
      "cell_type": "code",
      "source": [
        "a = 0.1\n",
        "b = -0.5\n",
        "c = 20\n",
        "x = float(input(\"Enter a value for x (temperature or other factor): \"))\n",
        "tw = (0.5 * x**2) - (0.2 * x) + (0.1 * 5) - 15\n",
        "weather_condition = classify_weather(tw)\n",
        "print(f\"For x = {x}, the weather is: {weather_condition}\")\n"
      ],
      "metadata": {
        "id": "4jfu4x05fcQx"
      },
      "execution_count": null,
      "outputs": []
    },
    {
      "cell_type": "code",
      "source": [
        "a = 0.1\n",
        "b = -0.5\n",
        "c = 20\n",
        "with open(\"input_data_sets.txt\", \"r\") as file:\n",
        "    for line in file:\n",
        "        x_values = line.split()\n",
        "        for x in x_values:\n",
        "            x = float(x)\n",
        "            tw = (0.5 * x**2) - (0.2 * x) + (0.1 * 5) - 15\n",
        "            weather_condition = classify_weather(tw)\n",
        "            print(f\"For x = {x}, the weather is: {weather_condition}\")\n"
      ],
      "metadata": {
        "id": "Gk3kVQ5kmHpA"
      },
      "execution_count": null,
      "outputs": []
    }
  ]
}