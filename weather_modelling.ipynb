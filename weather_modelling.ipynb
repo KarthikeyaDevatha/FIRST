{
  "nbformat": 4,
  "nbformat_minor": 0,
  "metadata": {
    "colab": {
      "provenance": [],
      "authorship_tag": "ABX9TyPCzbESjwnaUwEbS2wdpOz/",
      "include_colab_link": true
    },
    "kernelspec": {
      "name": "python3",
      "display_name": "Python 3"
    },
    "language_info": {
      "name": "python"
    }
  },
  "cells": [
    {
      "cell_type": "markdown",
      "metadata": {
        "id": "view-in-github",
        "colab_type": "text"
      },
      "source": [
        "<a href=\"https://colab.research.google.com/github/KarthikeyaDevatha/FIRST/blob/main/weather_modelling.ipynb\" target=\"_parent\"><img src=\"https://colab.research.google.com/assets/colab-badge.svg\" alt=\"Open In Colab\"/></a>"
      ]
    },
    {
      "cell_type": "code",
      "execution_count": 3,
      "metadata": {
        "colab": {
          "base_uri": "https://localhost:8080/"
        },
        "id": "McpAWFzXe8tg",
        "outputId": "ab02901b-0b85-4950-c6d1-3d8194f1df9e"
      },
      "outputs": [
        {
          "output_type": "stream",
          "name": "stdout",
          "text": [
            "For x = 10, the weather is: Stormy\n"
          ]
        }
      ],
      "source": [
        "import pandas as pd\n",
        "import numpy as np\n",
        "from openpyxl import load_workbook\n",
        "\n",
        "def classify_weather(tw):\n",
        "    if tw > 350:\n",
        "        return \"Sunny\"\n",
        "    elif 250 < tw <= 350:\n",
        "        return \"Cloudy\"\n",
        "    elif 150 < tw <= 250:\n",
        "        return \"Rainy\"\n",
        "    else:\n",
        "        return \"Stormy\"\n",
        "\n",
        "a = 0.1\n",
        "b = -0.5\n",
        "c = 20\n",
        "x = 10\n",
        "tw = (0.5 * x**2) - (0.2 * x) + (0.1 * 5) - 15\n",
        "weather_condition = classify_weather(tw)\n",
        "print(f\"For x = {x}, the weather is: {weather_condition}\")\n"
      ]
    },
    {
      "cell_type": "code",
      "source": [
        "a = 0.1\n",
        "b = -0.5\n",
        "c = 20\n",
        "x = float(input(\"Enter a value for x (e.g., time of day or day of the year): \"))\n",
        "y = a * x**2 + b * x + c\n",
        "print(f\"The weather model output for x = {x} is y = {y}\")\n"
      ],
      "metadata": {
        "id": "V7Uo4YNdfSzZ"
      },
      "execution_count": null,
      "outputs": []
    },
    {
      "cell_type": "markdown",
      "source": [],
      "metadata": {
        "id": "LmwWWZ3ijI6E"
      }
    },
    {
      "cell_type": "code",
      "source": [
        "a = 0.1\n",
        "b = -0.5\n",
        "c = 20\n",
        "with open(\"input_data.txt\", \"r\") as file:\n",
        "    for line in file:\n",
        "        x = float(line.strip())\n",
        "        tw = (0.5 * x**2) - (0.2 * x) + (0.1 * 5) - 15\n",
        "        weather_condition = classify_weather(tw)\n",
        "        print(f\"For x = {x}, the weather is: {weather_condition}\")\n"
      ],
      "metadata": {
        "id": "1df9NS-VfZCv"
      },
      "execution_count": null,
      "outputs": []
    },
    {
      "cell_type": "code",
      "source": [
        "a = 0.1\n",
        "b = -0.5\n",
        "c = 20\n",
        "x = float(input(\"Enter a value for x (temperature or other factor): \"))\n",
        "tw = (0.5 * x**2) - (0.2 * x) + (0.1 * 5) - 15\n",
        "weather_condition = classify_weather(tw)\n",
        "print(f\"For x = {x}, the weather is: {weather_condition}\")\n"
      ],
      "metadata": {
        "id": "4jfu4x05fcQx",
        "colab": {
          "base_uri": "https://localhost:8080/",
          "height": 379
        },
        "outputId": "4537c476-9e71-43fa-fb57-fbbcad3364d2"
      },
      "execution_count": null,
      "outputs": [
        {
          "output_type": "error",
          "ename": "FileNotFoundError",
          "evalue": "[Errno 2] No such file or directory: 'input_data_sets.txt'",
          "traceback": [
            "\u001b[0;31m---------------------------------------------------------------------------\u001b[0m",
            "\u001b[0;31mFileNotFoundError\u001b[0m                         Traceback (most recent call last)",
            "\u001b[0;32m<ipython-input-2-9ba1ca3a795e>\u001b[0m in \u001b[0;36m<cell line: 4>\u001b[0;34m()\u001b[0m\n\u001b[1;32m      2\u001b[0m \u001b[0mb\u001b[0m \u001b[0;34m=\u001b[0m \u001b[0;34m-\u001b[0m\u001b[0;36m0.5\u001b[0m\u001b[0;34m\u001b[0m\u001b[0;34m\u001b[0m\u001b[0m\n\u001b[1;32m      3\u001b[0m \u001b[0mc\u001b[0m \u001b[0;34m=\u001b[0m \u001b[0;36m20\u001b[0m\u001b[0;34m\u001b[0m\u001b[0;34m\u001b[0m\u001b[0m\n\u001b[0;32m----> 4\u001b[0;31m \u001b[0;32mwith\u001b[0m \u001b[0mopen\u001b[0m\u001b[0;34m(\u001b[0m\u001b[0;34m\"input_data_sets.txt\"\u001b[0m\u001b[0;34m,\u001b[0m \u001b[0;34m\"r\"\u001b[0m\u001b[0;34m)\u001b[0m \u001b[0;32mas\u001b[0m \u001b[0mfile\u001b[0m\u001b[0;34m:\u001b[0m\u001b[0;34m\u001b[0m\u001b[0;34m\u001b[0m\u001b[0m\n\u001b[0m\u001b[1;32m      5\u001b[0m     \u001b[0;32mfor\u001b[0m \u001b[0mline\u001b[0m \u001b[0;32min\u001b[0m \u001b[0mfile\u001b[0m\u001b[0;34m:\u001b[0m\u001b[0;34m\u001b[0m\u001b[0;34m\u001b[0m\u001b[0m\n\u001b[1;32m      6\u001b[0m         \u001b[0mx_values\u001b[0m \u001b[0;34m=\u001b[0m \u001b[0mline\u001b[0m\u001b[0;34m.\u001b[0m\u001b[0msplit\u001b[0m\u001b[0;34m(\u001b[0m\u001b[0;34m)\u001b[0m\u001b[0;34m\u001b[0m\u001b[0;34m\u001b[0m\u001b[0m\n",
            "\u001b[0;31mFileNotFoundError\u001b[0m: [Errno 2] No such file or directory: 'input_data_sets.txt'"
          ]
        }
      ]
    },
    {
      "cell_type": "code",
      "source": [
        "a = 0.1\n",
        "b = -0.5\n",
        "c = 20\n",
        "with open(\"input_data_sets.txt\", \"r\") as file:\n",
        "    for line in file:\n",
        "        x_values = line.split()\n",
        "        for x in x_values:\n",
        "            x = float(x)\n",
        "            tw = (0.5 * x**2) - (0.2 * x) + (0.1 * 5) - 15\n",
        "            weather_condition = classify_weather(tw)\n",
        "            print(f\"For x = {x}, the weather is: {weather_condition}\")\n"
      ],
      "metadata": {
        "id": "Gk3kVQ5kmHpA"
      },
      "execution_count": null,
      "outputs": []
    }
  ]
}