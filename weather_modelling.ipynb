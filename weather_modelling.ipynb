{
  "nbformat": 4,
  "nbformat_minor": 0,
  "metadata": {
    "colab": {
      "provenance": [],
      "authorship_tag": "ABX9TyPPf16FlJU6vuvfqO3COhIW",
      "include_colab_link": true
    },
    "kernelspec": {
      "name": "python3",
      "display_name": "Python 3"
    },
    "language_info": {
      "name": "python"
    }
  },
  "cells": [
    {
      "cell_type": "markdown",
      "metadata": {
        "id": "view-in-github",
        "colab_type": "text"
      },
      "source": [
        "<a href=\"https://colab.research.google.com/github/KarthikeyaDevatha/FIRST/blob/main/weather_modelling.ipynb\" target=\"_parent\"><img src=\"https://colab.research.google.com/assets/colab-badge.svg\" alt=\"Open In Colab\"/></a>"
      ]
    },
    {
      "cell_type": "code",
      "execution_count": 1,
      "metadata": {
        "colab": {
          "base_uri": "https://localhost:8080/"
        },
        "id": "McpAWFzXe8tg",
        "outputId": "5e91c949-6d93-413a-d676-f1f577e5039a"
      },
      "outputs": [
        {
          "output_type": "stream",
          "name": "stdout",
          "text": [
            "The weather model output for x = 10 is y = 25.0\n"
          ]
        }
      ],
      "source": [
        "a = 0.1\n",
        "b = -0.5\n",
        "c = 20\n",
        "x = 10\n",
        "y = a * x**2 + b * x + c\n",
        "print(f\"The weather model output for x = {x} is y = {y}\")\n"
      ]
    },
    {
      "cell_type": "code",
      "source": [
        "a = 0.1\n",
        "b = -0.5\n",
        "c = 20\n",
        "x = float(input(\"Enter a value for x (e.g., time of day or day of the year): \"))\n",
        "y = a * x**2 + b * x + c\n",
        "print(f\"The weather model output for x = {x} is y = {y}\")\n"
      ],
      "metadata": {
        "id": "V7Uo4YNdfSzZ"
      },
      "execution_count": null,
      "outputs": []
    },
    {
      "cell_type": "code",
      "source": [
        "a = 0.1\n",
        "b = -0.5\n",
        "c = 20\n",
        "with open(\"input_data.txt\", \"r\") as file:\n",
        "    for line in file:\n",
        "        x = float(line.strip())\n",
        "        y = a * x**2 + b * x + c\n",
        "        print(f\"The weather model output for x = {x} is y = {y}\")\n"
      ],
      "metadata": {
        "id": "1df9NS-VfZCv"
      },
      "execution_count": null,
      "outputs": []
    },
    {
      "cell_type": "code",
      "source": [
        "a = 0.1\n",
        "b = -0.5\n",
        "c = 20\n",
        "with open(\"input_data_sets.txt\", \"r\") as file:\n",
        "    for line in file:\n",
        "        x_values = line.split()\n",
        "        for x in x_values:\n",
        "            x = float(x)\n",
        "            y = a * x**2 + b * x + c\n",
        "            print(f\"For x = {x}, the weather model output is y = {y}\")\n"
      ],
      "metadata": {
        "id": "4jfu4x05fcQx"
      },
      "execution_count": null,
      "outputs": []
    }
  ]
}