{
  "nbformat": 4,
  "nbformat_minor": 0,
  "metadata": {
    "colab": {
      "private_outputs": true,
      "provenance": [],
      "include_colab_link": true
    },
    "kernelspec": {
      "name": "python3",
      "display_name": "Python 3"
    },
    "language_info": {
      "name": "python"
    }
  },
  "cells": [
    {
      "cell_type": "markdown",
      "metadata": {
        "id": "view-in-github",
        "colab_type": "text"
      },
      "source": [
        "<a href=\"https://colab.research.google.com/github/KarthikeyaDevatha/FIRST/blob/main/n_queen_hill_climbing.ipynb\" target=\"_parent\"><img src=\"https://colab.research.google.com/assets/colab-badge.svg\" alt=\"Open In Colab\"/></a>"
      ]
    },
    {
      "cell_type": "code",
      "execution_count": null,
      "metadata": {
        "id": "bYrhY0thEuIr"
      },
      "outputs": [],
      "source": [
        "import random\n",
        "\n",
        "def calculate_h(board):\n",
        "    \"\"\"Calculate the h value (number of attacking pairs of queens) for the board.\"\"\"\n",
        "    h = 0\n",
        "    n = len(board)\n",
        "    for i in range(n):\n",
        "        for j in range(i + 1, n):\n",
        "            if board[i] == board[j] or abs(board[i] - board[j]) == abs(i - j):\n",
        "                h += 1\n",
        "    return h\n",
        "\n",
        "def get_best_neighbor(board):\n",
        "    \"\"\"Generate the best neighbor by minimizing the h value.\"\"\"\n",
        "    n = len(board)\n",
        "    best_h = calculate_h(board)\n",
        "    best_board = board[:]\n",
        "\n",
        "    for col in range(n):\n",
        "        original_row = board[col]\n",
        "        for row in range(n):\n",
        "            if row != original_row:\n",
        "                board[col] = row\n",
        "                current_h = calculate_h(board)\n",
        "                if current_h < best_h:\n",
        "                    best_h = current_h\n",
        "                    best_board = board[:]\n",
        "        board[col] = original_row  # Reset the column to its original state\n",
        "\n",
        "    return best_board, best_h\n",
        "\n",
        "def hill_climbing(board):\n",
        "    \"\"\"Hill Climbing algorithm to solve the N-Queens problem.\"\"\"\n",
        "    current_board = board[:]\n",
        "    current_h = calculate_h(current_board)\n",
        "\n",
        "    while True:\n",
        "        neighbor_board, neighbor_h = get_best_neighbor(current_board)\n",
        "        if neighbor_h >= current_h:  # No better neighbors found\n",
        "            break\n",
        "        current_board, current_h = neighbor_board, neighbor_h\n",
        "\n",
        "    return current_board, current_h\n",
        "\n",
        "def solve_n_queens(n=4):\n",
        "    \"\"\"Solve the N-Queens problem using Hill Climbing.\"\"\"\n",
        "    # Initialize a random board\n",
        "    board = [random.randint(0, n - 1) for _ in range(n)]\n",
        "    print(\"Initial board:\", board, \"with h =\", calculate_h(board))\n",
        "\n",
        "    # Perform Hill Climbing search\n",
        "    solution, h_value = hill_climbing(board)\n",
        "    print(\"Final board:\", solution, \"with h =\", h_value)\n",
        "\n",
        "    if h_value == 0:\n",
        "        print(\"Solution found!\")\n",
        "    else:\n",
        "        print(\"No solution found.\")\n",
        "\n",
        "    return solution\n",
        "\n",
        "solve_n_queens()\n"
      ]
    }
  ]
}